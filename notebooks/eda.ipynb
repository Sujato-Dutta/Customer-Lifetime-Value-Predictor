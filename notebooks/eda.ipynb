{
 "cells": [
  {
   "cell_type": "markdown",
   "id": "45dcc9f5",
   "metadata": {},
   "source": [
    "# Exploratory Data Analysis"
   ]
  },
  {
   "cell_type": "code",
   "execution_count": null,
   "id": "3d06ea73",
   "metadata": {},
   "outputs": [
    {
     "name": "stderr",
     "output_type": "stream",
     "text": [
      "2025-07-26 15:07:12,107 [INFO] data_ingestion - Fetching data from Supabase table: transformed_customer_data\n",
      "2025-07-26 15:07:13,683 [INFO] data_ingestion - Fetched batch with 1000 records (offset: 0)\n",
      "2025-07-26 15:07:13,790 [INFO] data_ingestion - Fetched batch with 1000 records (offset: 1000)\n",
      "2025-07-26 15:07:13,882 [INFO] data_ingestion - Fetched batch with 1000 records (offset: 2000)\n",
      "2025-07-26 15:07:14,002 [INFO] data_ingestion - Fetched batch with 1000 records (offset: 3000)\n",
      "2025-07-26 15:07:14,115 [INFO] data_ingestion - Fetched batch with 1000 records (offset: 4000)\n",
      "2025-07-26 15:07:14,217 [INFO] data_ingestion - Fetched batch with 1000 records (offset: 5000)\n",
      "2025-07-26 15:07:14,344 [INFO] data_ingestion - Fetched batch with 1000 records (offset: 6000)\n",
      "2025-07-26 15:07:14,432 [INFO] data_ingestion - Fetched batch with 1000 records (offset: 7000)\n",
      "2025-07-26 15:07:14,533 [INFO] data_ingestion - Fetched batch with 1000 records (offset: 8000)\n",
      "2025-07-26 15:07:14,648 [INFO] data_ingestion - Fetched batch with 1000 records (offset: 9000)\n",
      "2025-07-26 15:07:14,791 [INFO] data_ingestion - Ingested total of 10000 records from Supabase.\n"
     ]
    },
    {
     "name": "stdout",
     "output_type": "stream",
     "text": [
      "Shape of DataFrame: (10000, 8)\n"
     ]
    },
    {
     "data": {
      "text/html": [
       "<div>\n",
       "<style scoped>\n",
       "    .dataframe tbody tr th:only-of-type {\n",
       "        vertical-align: middle;\n",
       "    }\n",
       "\n",
       "    .dataframe tbody tr th {\n",
       "        vertical-align: top;\n",
       "    }\n",
       "\n",
       "    .dataframe thead th {\n",
       "        text-align: right;\n",
       "    }\n",
       "</style>\n",
       "<table border=\"1\" class=\"dataframe\">\n",
       "  <thead>\n",
       "    <tr style=\"text-align: right;\">\n",
       "      <th></th>\n",
       "      <th>customer_id</th>\n",
       "      <th>invoice_id</th>\n",
       "      <th>invoice_date</th>\n",
       "      <th>purchase_amount</th>\n",
       "      <th>product_category</th>\n",
       "      <th>payment_method</th>\n",
       "      <th>customer_segment</th>\n",
       "      <th>region</th>\n",
       "    </tr>\n",
       "  </thead>\n",
       "  <tbody>\n",
       "    <tr>\n",
       "      <th>0</th>\n",
       "      <td>CUST_102</td>\n",
       "      <td>INV_0</td>\n",
       "      <td>2024-01-23</td>\n",
       "      <td>71.39</td>\n",
       "      <td>clothing</td>\n",
       "      <td>upi</td>\n",
       "      <td>loyal</td>\n",
       "      <td>north</td>\n",
       "    </tr>\n",
       "    <tr>\n",
       "      <th>1</th>\n",
       "      <td>CUST_435</td>\n",
       "      <td>INV_1</td>\n",
       "      <td>2024-02-23</td>\n",
       "      <td>56.88</td>\n",
       "      <td>clothing</td>\n",
       "      <td>credit card</td>\n",
       "      <td>returning</td>\n",
       "      <td>south</td>\n",
       "    </tr>\n",
       "    <tr>\n",
       "      <th>2</th>\n",
       "      <td>CUST_860</td>\n",
       "      <td>INV_2</td>\n",
       "      <td>2024-03-05</td>\n",
       "      <td>89.96</td>\n",
       "      <td>electronics</td>\n",
       "      <td>cash on delivery</td>\n",
       "      <td>loyal</td>\n",
       "      <td>east</td>\n",
       "    </tr>\n",
       "    <tr>\n",
       "      <th>3</th>\n",
       "      <td>CUST_270</td>\n",
       "      <td>INV_3</td>\n",
       "      <td>2024-05-19</td>\n",
       "      <td>26.58</td>\n",
       "      <td>beauty</td>\n",
       "      <td>cash on delivery</td>\n",
       "      <td>new</td>\n",
       "      <td>south</td>\n",
       "    </tr>\n",
       "    <tr>\n",
       "      <th>4</th>\n",
       "      <td>CUST_106</td>\n",
       "      <td>INV_4</td>\n",
       "      <td>2024-01-24</td>\n",
       "      <td>283.46</td>\n",
       "      <td>books</td>\n",
       "      <td>credit card</td>\n",
       "      <td>returning</td>\n",
       "      <td>north</td>\n",
       "    </tr>\n",
       "  </tbody>\n",
       "</table>\n",
       "</div>"
      ],
      "text/plain": [
       "  customer_id invoice_id invoice_date  purchase_amount product_category  \\\n",
       "0    CUST_102      INV_0   2024-01-23            71.39         clothing   \n",
       "1    CUST_435      INV_1   2024-02-23            56.88         clothing   \n",
       "2    CUST_860      INV_2   2024-03-05            89.96      electronics   \n",
       "3    CUST_270      INV_3   2024-05-19            26.58           beauty   \n",
       "4    CUST_106      INV_4   2024-01-24           283.46            books   \n",
       "\n",
       "     payment_method customer_segment region  \n",
       "0               upi            loyal  north  \n",
       "1       credit card        returning  south  \n",
       "2  cash on delivery            loyal   east  \n",
       "3  cash on delivery              new  south  \n",
       "4       credit card        returning  north  "
      ]
     },
     "metadata": {},
     "output_type": "display_data"
    }
   ],
   "source": [
    "import sys\n",
    "import os\n",
    "\n",
    "# Add project root to path\n",
    "project_root = os.path.abspath(\"..\")\n",
    "sys.path.append(project_root)\n",
    "\n",
    "import pandas as pd\n",
    "import seaborn as sns\n",
    "import matplotlib.pyplot as plt\n",
    "\n",
    "from src.data_ingestion import SupabaseIngestor\n",
    "\n",
    "# Load config path\n",
    "config_path = os.path.join(project_root, \"src\", \"config\", \"config.yaml\")\n",
    "\n",
    "# Ingest full data using updated class with pagination\n",
    "ingestor = SupabaseIngestor(config_path=config_path)\n",
    "df = ingestor.load_data()  # load_data internally handles pagination\n",
    "\n",
    "# Display basic information\n",
    "print(f\"Shape of DataFrame: {df.shape}\")\n",
    "display(df.head())\n"
   ]
  },
  {
   "cell_type": "code",
   "execution_count": 3,
   "id": "3a4c5ddb",
   "metadata": {},
   "outputs": [
    {
     "data": {
      "text/plain": [
       "customer_id         0\n",
       "invoice_id          0\n",
       "invoice_date        0\n",
       "purchase_amount     0\n",
       "product_category    0\n",
       "payment_method      0\n",
       "customer_segment    0\n",
       "region              0\n",
       "dtype: int64"
      ]
     },
     "execution_count": 3,
     "metadata": {},
     "output_type": "execute_result"
    }
   ],
   "source": [
    "# Check for missing values\n",
    "df.isnull().sum()\n"
   ]
  },
  {
   "cell_type": "code",
   "execution_count": 4,
   "id": "03105e06",
   "metadata": {},
   "outputs": [
    {
     "data": {
      "text/html": [
       "<div>\n",
       "<style scoped>\n",
       "    .dataframe tbody tr th:only-of-type {\n",
       "        vertical-align: middle;\n",
       "    }\n",
       "\n",
       "    .dataframe tbody tr th {\n",
       "        vertical-align: top;\n",
       "    }\n",
       "\n",
       "    .dataframe thead th {\n",
       "        text-align: right;\n",
       "    }\n",
       "</style>\n",
       "<table border=\"1\" class=\"dataframe\">\n",
       "  <thead>\n",
       "    <tr style=\"text-align: right;\">\n",
       "      <th></th>\n",
       "      <th>purchase_amount</th>\n",
       "    </tr>\n",
       "  </thead>\n",
       "  <tbody>\n",
       "    <tr>\n",
       "      <th>count</th>\n",
       "      <td>10000.000000</td>\n",
       "    </tr>\n",
       "    <tr>\n",
       "      <th>mean</th>\n",
       "      <td>102.211699</td>\n",
       "    </tr>\n",
       "    <tr>\n",
       "      <th>std</th>\n",
       "      <td>102.497672</td>\n",
       "    </tr>\n",
       "    <tr>\n",
       "      <th>min</th>\n",
       "      <td>0.000000</td>\n",
       "    </tr>\n",
       "    <tr>\n",
       "      <th>25%</th>\n",
       "      <td>29.585000</td>\n",
       "    </tr>\n",
       "    <tr>\n",
       "      <th>50%</th>\n",
       "      <td>70.930000</td>\n",
       "    </tr>\n",
       "    <tr>\n",
       "      <th>75%</th>\n",
       "      <td>140.760000</td>\n",
       "    </tr>\n",
       "    <tr>\n",
       "      <th>max</th>\n",
       "      <td>949.570000</td>\n",
       "    </tr>\n",
       "  </tbody>\n",
       "</table>\n",
       "</div>"
      ],
      "text/plain": [
       "       purchase_amount\n",
       "count     10000.000000\n",
       "mean        102.211699\n",
       "std         102.497672\n",
       "min           0.000000\n",
       "25%          29.585000\n",
       "50%          70.930000\n",
       "75%         140.760000\n",
       "max         949.570000"
      ]
     },
     "execution_count": 4,
     "metadata": {},
     "output_type": "execute_result"
    }
   ],
   "source": [
    "# Basic statistics\n",
    "df.describe()"
   ]
  },
  {
   "cell_type": "code",
   "execution_count": 5,
   "id": "60292ce8",
   "metadata": {},
   "outputs": [
    {
     "data": {
      "image/png": "[encoded data removed]",
      "text/plain": [
       "<Figure size 640x480 with 1 Axes>"
      ]
     },
     "metadata": {},
     "output_type": "display_data"
    }
   ],
   "source": [
    "sns.histplot(df['purchase_amount'], bins=50, kde=True)\n",
    "plt.title(\"Purchase Amount Distribution\")\n",
    "plt.show()"
   ]
  },
  {
   "cell_type": "markdown",
   "id": "fa545a18",
   "metadata": {},
   "source": [
    "## Revenue by Category"
   ]
  },
  {
   "cell_type": "code",
   "execution_count": 6,
   "id": "d4e7755a",
   "metadata": {},
   "outputs": [
    {
     "data": {
      "text/html": [
       "<div>\n",
       "<style scoped>\n",
       "    .dataframe tbody tr th:only-of-type {\n",
       "        vertical-align: middle;\n",
       "    }\n",
       "\n",
       "    .dataframe tbody tr th {\n",
       "        vertical-align: top;\n",
       "    }\n",
       "\n",
       "    .dataframe thead th {\n",
       "        text-align: right;\n",
       "    }\n",
       "</style>\n",
       "<table border=\"1\" class=\"dataframe\">\n",
       "  <thead>\n",
       "    <tr style=\"text-align: right;\">\n",
       "      <th></th>\n",
       "      <th>mean</th>\n",
       "      <th>sum</th>\n",
       "      <th>count</th>\n",
       "    </tr>\n",
       "    <tr>\n",
       "      <th>product_category</th>\n",
       "      <th></th>\n",
       "      <th></th>\n",
       "      <th></th>\n",
       "    </tr>\n",
       "  </thead>\n",
       "  <tbody>\n",
       "    <tr>\n",
       "      <th>books</th>\n",
       "      <td>101.592238</td>\n",
       "      <td>212937.33</td>\n",
       "      <td>2096</td>\n",
       "    </tr>\n",
       "    <tr>\n",
       "      <th>electronics</th>\n",
       "      <td>104.738018</td>\n",
       "      <td>204029.66</td>\n",
       "      <td>1948</td>\n",
       "    </tr>\n",
       "    <tr>\n",
       "      <th>home</th>\n",
       "      <td>100.250015</td>\n",
       "      <td>203908.53</td>\n",
       "      <td>2034</td>\n",
       "    </tr>\n",
       "    <tr>\n",
       "      <th>clothing</th>\n",
       "      <td>102.621567</td>\n",
       "      <td>201754.00</td>\n",
       "      <td>1966</td>\n",
       "    </tr>\n",
       "    <tr>\n",
       "      <th>beauty</th>\n",
       "      <td>101.987459</td>\n",
       "      <td>199487.47</td>\n",
       "      <td>1956</td>\n",
       "    </tr>\n",
       "  </tbody>\n",
       "</table>\n",
       "</div>"
      ],
      "text/plain": [
       "                        mean        sum  count\n",
       "product_category                              \n",
       "books             101.592238  212937.33   2096\n",
       "electronics       104.738018  204029.66   1948\n",
       "home              100.250015  203908.53   2034\n",
       "clothing          102.621567  201754.00   1966\n",
       "beauty            101.987459  199487.47   1956"
      ]
     },
     "execution_count": 6,
     "metadata": {},
     "output_type": "execute_result"
    }
   ],
   "source": [
    "df.groupby(\"product_category\")['purchase_amount'].agg(['mean', 'sum', 'count']).sort_values(by='sum', ascending=False)"
   ]
  },
  {
   "cell_type": "markdown",
   "id": "6d59e94f",
   "metadata": {},
   "source": [
    "## Revenue by Region"
   ]
  },
  {
   "cell_type": "code",
   "execution_count": 7,
   "id": "2d5c9914",
   "metadata": {},
   "outputs": [
    {
     "data": {
      "text/html": [
       "<div>\n",
       "<style scoped>\n",
       "    .dataframe tbody tr th:only-of-type {\n",
       "        vertical-align: middle;\n",
       "    }\n",
       "\n",
       "    .dataframe tbody tr th {\n",
       "        vertical-align: top;\n",
       "    }\n",
       "\n",
       "    .dataframe thead th {\n",
       "        text-align: right;\n",
       "    }\n",
       "</style>\n",
       "<table border=\"1\" class=\"dataframe\">\n",
       "  <thead>\n",
       "    <tr style=\"text-align: right;\">\n",
       "      <th></th>\n",
       "      <th>mean</th>\n",
       "      <th>sum</th>\n",
       "      <th>count</th>\n",
       "    </tr>\n",
       "    <tr>\n",
       "      <th>region</th>\n",
       "      <th></th>\n",
       "      <th></th>\n",
       "      <th></th>\n",
       "    </tr>\n",
       "  </thead>\n",
       "  <tbody>\n",
       "    <tr>\n",
       "      <th>north</th>\n",
       "      <td>103.360978</td>\n",
       "      <td>262020.08</td>\n",
       "      <td>2535</td>\n",
       "    </tr>\n",
       "    <tr>\n",
       "      <th>west</th>\n",
       "      <td>104.074766</td>\n",
       "      <td>260082.84</td>\n",
       "      <td>2499</td>\n",
       "    </tr>\n",
       "    <tr>\n",
       "      <th>south</th>\n",
       "      <td>100.410680</td>\n",
       "      <td>252432.45</td>\n",
       "      <td>2514</td>\n",
       "    </tr>\n",
       "    <tr>\n",
       "      <th>east</th>\n",
       "      <td>100.971297</td>\n",
       "      <td>247581.62</td>\n",
       "      <td>2452</td>\n",
       "    </tr>\n",
       "  </tbody>\n",
       "</table>\n",
       "</div>"
      ],
      "text/plain": [
       "              mean        sum  count\n",
       "region                              \n",
       "north   103.360978  262020.08   2535\n",
       "west    104.074766  260082.84   2499\n",
       "south   100.410680  252432.45   2514\n",
       "east    100.971297  247581.62   2452"
      ]
     },
     "execution_count": 7,
     "metadata": {},
     "output_type": "execute_result"
    }
   ],
   "source": [
    "df.groupby(\"region\")['purchase_amount'].agg(['mean', 'sum', 'count']).sort_values(by='sum', ascending=False)"
   ]
  },
  {
   "cell_type": "markdown",
   "id": "86803d0f",
   "metadata": {},
   "source": [
    "##  Revenue by Segment"
   ]
  },
  {
   "cell_type": "code",
   "execution_count": 8,
   "id": "585d0779",
   "metadata": {},
   "outputs": [
    {
     "data": {
      "text/html": [
       "<div>\n",
       "<style scoped>\n",
       "    .dataframe tbody tr th:only-of-type {\n",
       "        vertical-align: middle;\n",
       "    }\n",
       "\n",
       "    .dataframe tbody tr th {\n",
       "        vertical-align: top;\n",
       "    }\n",
       "\n",
       "    .dataframe thead th {\n",
       "        text-align: right;\n",
       "    }\n",
       "</style>\n",
       "<table border=\"1\" class=\"dataframe\">\n",
       "  <thead>\n",
       "    <tr style=\"text-align: right;\">\n",
       "      <th></th>\n",
       "      <th>mean</th>\n",
       "      <th>sum</th>\n",
       "      <th>count</th>\n",
       "    </tr>\n",
       "    <tr>\n",
       "      <th>customer_segment</th>\n",
       "      <th></th>\n",
       "      <th></th>\n",
       "      <th></th>\n",
       "    </tr>\n",
       "  </thead>\n",
       "  <tbody>\n",
       "    <tr>\n",
       "      <th>new</th>\n",
       "      <td>106.232600</td>\n",
       "      <td>357047.77</td>\n",
       "      <td>3361</td>\n",
       "    </tr>\n",
       "    <tr>\n",
       "      <th>loyal</th>\n",
       "      <td>100.453197</td>\n",
       "      <td>332700.99</td>\n",
       "      <td>3312</td>\n",
       "    </tr>\n",
       "    <tr>\n",
       "      <th>returning</th>\n",
       "      <td>99.900280</td>\n",
       "      <td>332368.23</td>\n",
       "      <td>3327</td>\n",
       "    </tr>\n",
       "  </tbody>\n",
       "</table>\n",
       "</div>"
      ],
      "text/plain": [
       "                        mean        sum  count\n",
       "customer_segment                              \n",
       "new               106.232600  357047.77   3361\n",
       "loyal             100.453197  332700.99   3312\n",
       "returning          99.900280  332368.23   3327"
      ]
     },
     "execution_count": 8,
     "metadata": {},
     "output_type": "execute_result"
    }
   ],
   "source": [
    "df.groupby(\"customer_segment\")['purchase_amount'].agg(['mean', 'sum', 'count']).sort_values(by='sum', ascending=False)"
   ]
  },
  {
   "cell_type": "markdown",
   "id": "8efef58a",
   "metadata": {},
   "source": [
    "## Monthly Revenue Trend"
   ]
  },
  {
   "cell_type": "code",
   "execution_count": 9,
   "id": "4cf0e5eb",
   "metadata": {},
   "outputs": [],
   "source": [
    "\n",
    "df['invoice_date'] = pd.to_datetime(df['invoice_date'])\n",
    "df['month'] = df['invoice_date'].dt.to_period('M')"
   ]
  },
  {
   "cell_type": "code",
   "execution_count": 11,
   "id": "0a27a401",
   "metadata": {},
   "outputs": [
    {
     "data": {
      "image/png": "[encoded data removed]",
      "text/plain": [
       "<Figure size 640x480 with 1 Axes>"
      ]
     },
     "metadata": {},
     "output_type": "display_data"
    }
   ],
   "source": [
    "monthly_revenue = df.groupby('month')['purchase_amount'].sum()\n",
    "monthly_revenue.plot(kind='line', marker='o')\n",
    "plt.title(\"Monthly Revenue\")\n",
    "plt.ylabel(\"Total Purchase Amount\")\n",
    "plt.xlabel(\"Month\")\n",
    "plt.show()"
   ]
  },
  {
   "cell_type": "markdown",
   "id": "1f8c70dd",
   "metadata": {},
   "source": [
    "## Customer Analysis"
   ]
  },
  {
   "cell_type": "code",
   "execution_count": 13,
   "id": "d47c0bcb",
   "metadata": {},
   "outputs": [
    {
     "data": {
      "text/plain": [
       "customer_id\n",
       "CUST_110    3131.33\n",
       "CUST_400    2887.32\n",
       "CUST_692    2789.69\n",
       "CUST_824    2560.07\n",
       "CUST_821    2552.80\n",
       "CUST_829    2524.41\n",
       "CUST_536    2514.01\n",
       "CUST_72     2477.25\n",
       "CUST_699    2424.12\n",
       "CUST_313    2380.87\n",
       "Name: purchase_amount, dtype: float64"
      ]
     },
     "execution_count": 13,
     "metadata": {},
     "output_type": "execute_result"
    }
   ],
   "source": [
    "# Customers by spend\n",
    "df.groupby(\"customer_id\")['purchase_amount'].sum().sort_values(ascending=False).head(10)"
   ]
  },
  {
   "cell_type": "markdown",
   "id": "a92e8681",
   "metadata": {},
   "source": [
    "# Conclusions:\n",
    "1. Books generate the most revenue and are also the most in demand.\n",
    "2. North and West are the more profitable regions for the company.\n",
    "3. New customers tend to spend more while loyal and returning customers average around the same.\n",
    "4. Sales tend to be the highest in the month of January and March. Might be interesting to look into the reason behind this."
   ]
  }
 ],
 "metadata": {
  "kernelspec": {
   "display_name": "venv (3.11.7)",
   "language": "python",
   "name": "python3"
  },
  "language_info": {
   "codemirror_mode": {
    "name": "ipython",
    "version": 3
   },
   "file_extension": ".py",
   "mimetype": "text/x-python",
   "name": "python",
   "nbconvert_exporter": "python",
   "pygments_lexer": "ipython3",
   "version": "3.11.7"
  }
 },
 "nbformat": 4,
 "nbformat_minor": 5
}
